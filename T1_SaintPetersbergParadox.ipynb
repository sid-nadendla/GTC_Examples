{
 "cells": [
  {
   "cell_type": "markdown",
   "id": "550a8402",
   "metadata": {},
   "source": [
    "# CS 5408 - Game Theory for Computing\n",
    "\n",
    "## Topic 1: Decision Theory -- Saint Petersberg Paradox\n",
    "\\\n",
    "COPYRIGHTS: © Sid Nadendla, 2021"
   ]
  },
  {
   "cell_type": "markdown",
   "id": "35db4634",
   "metadata": {},
   "source": [
    "### Choice Experiment\n",
    "\n",
    "* Flip an unbiased coin over multiple iterations. \n",
    "* In the first iteration, you win\n",
    "$$r_1 = \\begin{cases} 2, & \\text{if \"Heads\"}, \\\\ 0, & \\text{otherwise} \\end{cases}.$$\n",
    "* In the second iteration, you win\n",
    "$$r_2 = \\begin{cases} 4, & \\text{if \"Heads\" in all previous iterations}, \\\\ 0, & \\text{otherwise} \\end{cases}.$$\n",
    "* In the third iteration, you win\n",
    "$$r_3 = \\begin{cases} 8, & \\text{if \"Heads\" in all previous iterations}, \\\\ 0, & \\text{otherwise} \\end{cases}.$$\n",
    "* Upon $n$ iterations, you win\n",
    "$$r_n = \\begin{cases} 2^n, & \\text{if \"Heads\" in all previous iterations}, \\\\ 0, & \\text{otherwise} \\end{cases}.$$\n",
    "\n",
    "The net reward that you obtain after $N$ iterations is given by\n",
    "$$ R_N = \\displaystyle \\sum_{n = 1}^{N} r_n. $$\n",
    "\n",
    "#### <font color='red'>If you are asked to choose $N$ before the experiment is conducted, what would you choose?</font>"
   ]
  },
  {
   "cell_type": "code",
   "execution_count": 109,
   "id": "c47617ab",
   "metadata": {},
   "outputs": [
    {
     "name": "stdout",
     "output_type": "stream",
     "text": [
      "Requirement already satisfied: numpy in /Users/nadendla/Desktop/Teaching/Game Theory for Computing/FS2021/JupyterNotebooks/GTC_jupyter_venv/lib/python3.7/site-packages (1.21.2)\n",
      "Requirement already satisfied: matplotlib in /Users/nadendla/Desktop/Teaching/Game Theory for Computing/FS2021/JupyterNotebooks/GTC_jupyter_venv/lib/python3.7/site-packages (3.4.3)\n",
      "Requirement already satisfied: pillow>=6.2.0 in /Users/nadendla/Desktop/Teaching/Game Theory for Computing/FS2021/JupyterNotebooks/GTC_jupyter_venv/lib/python3.7/site-packages (from matplotlib) (8.3.1)\n",
      "Requirement already satisfied: pyparsing>=2.2.1 in /Users/nadendla/Desktop/Teaching/Game Theory for Computing/FS2021/JupyterNotebooks/GTC_jupyter_venv/lib/python3.7/site-packages (from matplotlib) (2.4.7)\n",
      "Requirement already satisfied: numpy>=1.16 in /Users/nadendla/Desktop/Teaching/Game Theory for Computing/FS2021/JupyterNotebooks/GTC_jupyter_venv/lib/python3.7/site-packages (from matplotlib) (1.21.2)\n",
      "Requirement already satisfied: cycler>=0.10 in /Users/nadendla/Desktop/Teaching/Game Theory for Computing/FS2021/JupyterNotebooks/GTC_jupyter_venv/lib/python3.7/site-packages (from matplotlib) (0.10.0)\n",
      "Requirement already satisfied: kiwisolver>=1.0.1 in /Users/nadendla/Desktop/Teaching/Game Theory for Computing/FS2021/JupyterNotebooks/GTC_jupyter_venv/lib/python3.7/site-packages (from matplotlib) (1.3.1)\n",
      "Requirement already satisfied: python-dateutil>=2.7 in /Users/nadendla/Desktop/Teaching/Game Theory for Computing/FS2021/JupyterNotebooks/GTC_jupyter_venv/lib/python3.7/site-packages (from matplotlib) (2.8.2)\n",
      "Requirement already satisfied: six in /Users/nadendla/Desktop/Teaching/Game Theory for Computing/FS2021/JupyterNotebooks/GTC_jupyter_venv/lib/python3.7/site-packages (from cycler>=0.10->matplotlib) (1.16.0)\n"
     ]
    }
   ],
   "source": [
    "!pip install numpy\n",
    "!pip install matplotlib"
   ]
  },
  {
   "cell_type": "code",
   "execution_count": 110,
   "id": "2ea5b0a0",
   "metadata": {},
   "outputs": [],
   "source": [
    "import numpy as np\n",
    "import matplotlib.pyplot as plt"
   ]
  },
  {
   "cell_type": "markdown",
   "id": "f5af1441",
   "metadata": {},
   "source": [
    "### Monte-Carlo Simulation"
   ]
  },
  {
   "cell_type": "markdown",
   "id": "8b050999",
   "metadata": {},
   "source": [
    "#### Section 1: Basic Style"
   ]
  },
  {
   "cell_type": "code",
   "execution_count": 130,
   "id": "c03dba96",
   "metadata": {},
   "outputs": [],
   "source": [
    "def SaintPetersburg1(iteration,state):\n",
    "    \n",
    "    # Initialize instantaneous reward to zero\n",
    "    reward = 0\n",
    "    \n",
    "    # COIN TOSS EXPERIMENT:\n",
    "    # Generate a uniformly distributed random variable in [0,1]. \n",
    "    # If it is greater than 0.5, then declare HEADS. Otherwise, TAILS.\n",
    "    if np.random.uniform() > 0.5:\n",
    "        toss = 1 # 1 represents HEADS\n",
    "    else:\n",
    "        toss = 0 # 0 represents TAILS\n",
    "        state = 1\n",
    "    \n",
    "    # Compute the instantaneous reward\n",
    "    if ((toss == 1) and (state == 0)):\n",
    "        reward = 2**(iteration+1)\n",
    "    \n",
    "    return reward, state"
   ]
  },
  {
   "cell_type": "markdown",
   "id": "5de282a0",
   "metadata": {},
   "source": [
    "**Choice Experiment:**"
   ]
  },
  {
   "cell_type": "code",
   "execution_count": 133,
   "id": "5b707759",
   "metadata": {},
   "outputs": [
    {
     "name": "stdout",
     "output_type": "stream",
     "text": [
      "Enter the number of iterations you want to run the experiment:20\n",
      "Your rewards per iteration are: [2. 0. 0. 0. 0. 0. 0. 0. 0. 0. 0. 0. 0. 0. 0. 0. 0. 0. 0. 0.]\n",
      "Your total reward: 2.0\n"
     ]
    }
   ],
   "source": [
    "# Choice variable, i.e. the number of times you wish to toss the coin.\n",
    "N = int(input(\"Enter the number of iterations you want to run the experiment:\"))\n",
    "\n",
    "# Initialize variables\n",
    "experiment_state = 0\n",
    "instantaneous_reward = np.zeros(N)\n",
    "final_reward = 0\n",
    "\n",
    "# Toss the coin N times, and compute the total reward.\n",
    "for n in range(N):\n",
    "    instantaneous_reward[n], experiment_state = SaintPetersburg1(n,experiment_state)\n",
    "    if state == 1:\n",
    "            final_reward = np.sum(instantaneous_reward[:n+1])\n",
    "\n",
    "# Print all instantaneous rewards and total reward from this choice experiment\n",
    "print(f\"Your rewards per iteration are: {instantaneous_reward}\")\n",
    "print(f\"Your total reward: {final_reward}\")"
   ]
  },
  {
   "cell_type": "markdown",
   "id": "62aa22b3",
   "metadata": {},
   "source": [
    "**Empirical Distribution of Rewards:**"
   ]
  },
  {
   "cell_type": "code",
   "execution_count": 138,
   "id": "58ce8db3",
   "metadata": {},
   "outputs": [
    {
     "data": {
      "image/png": "[encoded data removed]",
      "text/plain": [
       "<Figure size 432x288 with 1 Axes>"
      ]
     },
     "metadata": {
      "needs_background": "light"
     },
     "output_type": "display_data"
    }
   ],
   "source": [
    "# Number of Monte-Carlo Runs\n",
    "K = 1000 \n",
    "\n",
    "# Number of iterations per Monte-Carlo run.\n",
    "N = 100 \n",
    "\n",
    "# Initialize variables\n",
    "total_reward = np.zeros(K)\n",
    "inst_reward = np.zeros((K,N))\n",
    "prob = np.zeros(N)\n",
    "\n",
    "# Toss the coin N times, and compute the total reward in each Monte-Carlo run\n",
    "for k in range(K):\n",
    "    state = 0\n",
    "    for n in range(N):\n",
    "        inst_reward[k,n], state = SaintPetersburg1(n,state)\n",
    "        if state == 1:\n",
    "            total_reward[k] = np.sum(inst_reward[k,:n])\n",
    "\n",
    "# Plot the histogram (empirical distribution)\n",
    "plt.hist(total_reward, bins=[0, 1, 3, 7, 15, 31], density=True,color=\"C1\")\n",
    "\n",
    "# Compute the actual probability of different outcomes\n",
    "for n in range(N):\n",
    "    prob[n] = 1/2**(n+1)\n",
    "plt.xlim(0,15)\n",
    "\n",
    "# Overlay the probability plot onto the histogram\n",
    "plt.plot(prob,color=\"C2\")\n",
    "plt.xlabel(\"Number of Iterations\")\n",
    "plt.ylabel(\"Frequency of Occurrence\")\n",
    "plt.show()"
   ]
  },
  {
   "cell_type": "markdown",
   "id": "fd32f27e",
   "metadata": {},
   "source": [
    "**Computation of Average Rewards:** Consider the $n^{th}$ iteration. \n",
    "* In order to obtain a non-zero reward in this iteration, we need to observe HEADS in this and all previous iterations.\n",
    "* The probability of such an event is $p_n = \\left( \\frac{1}{2} \\times \\cdots \\times \\frac{1}{2} \\right)_{n\\text{ times}} = \\frac{1}{2^n}$.\n",
    "* Given that the instantaneous reward is $r_n = \\begin{cases} 2^n, & \\text{if \"Heads\" in all previous iterations}, \\\\ 0, & \\text{otherwise} \\end{cases}$, the average reward after $N$ iterations is given by\n",
    "$$\\mathbb{E}(R_N) = \\displaystyle \\sum_{n = 1}^N p_n r_n = \\displaystyle \\sum_{n = 1}^N \\left[ \\left( \\frac{1}{2^n} \\right) \\cdot 2^n + \\left( 1 - \\frac{1}{2^n} \\right) \\cdot 0 \\right] = N.$$\n",
    "* On the other hand, Bernoulli claimed that people work with logarithmic utilities, i.e. $u_n = \\log r_n$.\n",
    "* Therefore, the expected utility at the human decision maker is\n",
    "$$\\mathbb{E}(U_N) = \\displaystyle \\sum_{n = 1}^N p_n u_n = \\displaystyle \\sum_{n = 1}^N p_n \\log_2(r_n) = \\displaystyle \\sum_{n = 1}^N \\left[ \\left( \\frac{1}{2^n} \\right) \\cdot n + \\left( 1 - \\frac{1}{2^n} \\right) \\cdot 0 \\right] = 2 - \\frac{N+2}{2^N}.$$"
   ]
  },
  {
   "cell_type": "code",
   "execution_count": 135,
   "id": "a2595383",
   "metadata": {},
   "outputs": [
    {
     "data": {
      "image/png": "[encoded data removed]",
      "text/plain": [
       "<Figure size 432x288 with 1 Axes>"
      ]
     },
     "metadata": {
      "needs_background": "light"
     },
     "output_type": "display_data"
    },
    {
     "data": {
      "image/png": "[encoded data removed]",
      "text/plain": [
       "<Figure size 432x288 with 1 Axes>"
      ]
     },
     "metadata": {
      "needs_background": "light"
     },
     "output_type": "display_data"
    }
   ],
   "source": [
    "# Initialize variables\n",
    "reward = np.zeros(N)\n",
    "log_reward = np.zeros(N)\n",
    "av_reward = np.zeros(N)\n",
    "log_utility = np.zeros(N)\n",
    "\n",
    "# Compute the expected reward (theoretical)\n",
    "for n in range(N):\n",
    "    reward[n] = 2**(n+1)\n",
    "    log_reward[n] = np.log2(reward[n])\n",
    "    av_reward[n] = np.sum(prob[:n]*reward[:n])\n",
    "    log_utility[n] = np.sum(prob[:n]*log_reward[:n])\n",
    "    \n",
    "# Plot expected reward and Bernoulli's utility (expected log-reward)\n",
    "# Remark 1: Expected reward linearly increases with the number of iterations.\n",
    "plt.plot(av_reward,color=\"C1\")\n",
    "plt.xlabel(\"Number of Iterations\")\n",
    "plt.ylabel(\"Average Reward\")\n",
    "plt.show()\n",
    "\n",
    "# Remark 2: Bernoulli's utility converges to some finite value after a few iterations.\n",
    "plt.plot(log_utility,color=\"C2\")\n",
    "plt.xlabel(\"Number of Iterations\")\n",
    "plt.ylabel(\"Bernoulli's Utility\")\n",
    "plt.xlim(0,12)\n",
    "plt.show()"
   ]
  },
  {
   "cell_type": "markdown",
   "id": "b696569d",
   "metadata": {},
   "source": [
    "#### Section 2: Using Classes and Objects"
   ]
  },
  {
   "cell_type": "code",
   "execution_count": 167,
   "id": "473fa513",
   "metadata": {},
   "outputs": [],
   "source": [
    "class Saint_Petersberg(object):\n",
    "    def __init__(self, N):\n",
    "        self.N = N\n",
    "        self.state = 0\n",
    "        self.rewards = np.zeros(N)\n",
    "        self.total_reward = 0\n",
    "        self.iteration = 0\n",
    "\n",
    "    def __repr__(self): \n",
    "        return f\"\"\"Instantaneous Rewards : {self.rewards}\\\n",
    "        \\nTotal Reward : {self.total_reward}\\\n",
    "        \\n\"\"\"\n",
    "    \n",
    "    def coin_toss(self):\n",
    "        if np.random.uniform() > 0.5:\n",
    "            toss = 1 # 1 represents HEADS\n",
    "        else:\n",
    "            toss = 0 # 0 represents TAILS\n",
    "        return toss\n",
    "\n",
    "    def inst_reward(self):\n",
    "        reward_ = 0\n",
    "        if ((self.coin_toss() == 1) and (self.state == 0)):\n",
    "            reward_ = 2**(self.iteration+1)\n",
    "        else:\n",
    "            self.state = 1\n",
    "        self.iteration+=1\n",
    "        return reward_\n",
    "\n",
    "    def play_game(self):\n",
    "        for i in range(self.N):\n",
    "            self.rewards[i] = self.inst_reward()\n",
    "        self.total_reward = np.sum(self.rewards)"
   ]
  },
  {
   "cell_type": "code",
   "execution_count": 168,
   "id": "efc70569",
   "metadata": {},
   "outputs": [
    {
     "name": "stdout",
     "output_type": "stream",
     "text": [
      "Enter the number of tosses you wish to play: 5\n",
      "Instantaneous Rewards : [0. 0. 0. 0. 0.]        \n",
      "Total Reward : 0.0        \n",
      "\n"
     ]
    }
   ],
   "source": [
    "N = int(input(\"Enter the number of tosses you wish to play: \"))\n",
    "st_petersberg_exp = Saint_Petersberg(N)\n",
    "st_petersberg_exp.play_game()\n",
    "print(st_petersberg_exp)"
   ]
  },
  {
   "cell_type": "code",
   "execution_count": 169,
   "id": "e874d84d",
   "metadata": {},
   "outputs": [
    {
     "name": "stdout",
     "output_type": "stream",
     "text": [
      "Instantaneous Rewards : [0. 0. 0. 0. 0.]        \n",
      "Total Reward : 0.0        \n",
      "\n",
      "Instantaneous Rewards : [ 2.  4.  8. 16. 32.]        \n",
      "Total Reward : 62.0        \n",
      "\n",
      "Instantaneous Rewards : [2. 0. 0. 0. 0.]        \n",
      "Total Reward : 2.0        \n",
      "\n",
      "Instantaneous Rewards : [0. 0. 0. 0. 0.]        \n",
      "Total Reward : 0.0        \n",
      "\n",
      "Instantaneous Rewards : [0. 0. 0. 0. 0.]        \n",
      "Total Reward : 0.0        \n",
      "\n",
      "Instantaneous Rewards : [0. 0. 0. 0. 0.]        \n",
      "Total Reward : 0.0        \n",
      "\n",
      "Instantaneous Rewards : [0. 0. 0. 0. 0.]        \n",
      "Total Reward : 0.0        \n",
      "\n",
      "Instantaneous Rewards : [2. 0. 0. 0. 0.]        \n",
      "Total Reward : 2.0        \n",
      "\n",
      "Instantaneous Rewards : [0. 0. 0. 0. 0.]        \n",
      "Total Reward : 0.0        \n",
      "\n",
      "Instantaneous Rewards : [0. 0. 0. 0. 0.]        \n",
      "Total Reward : 0.0        \n",
      "\n",
      "Instantaneous Rewards : [2. 0. 0. 0. 0.]        \n",
      "Total Reward : 2.0        \n",
      "\n",
      "Instantaneous Rewards : [2. 0. 0. 0. 0.]        \n",
      "Total Reward : 2.0        \n",
      "\n",
      "Instantaneous Rewards : [0. 0. 0. 0. 0.]        \n",
      "Total Reward : 0.0        \n",
      "\n",
      "Instantaneous Rewards : [0. 0. 0. 0. 0.]        \n",
      "Total Reward : 0.0        \n",
      "\n",
      "Instantaneous Rewards : [0. 0. 0. 0. 0.]        \n",
      "Total Reward : 0.0        \n",
      "\n",
      "Instantaneous Rewards : [2. 0. 0. 0. 0.]        \n",
      "Total Reward : 2.0        \n",
      "\n",
      "Instantaneous Rewards : [2. 0. 0. 0. 0.]        \n",
      "Total Reward : 2.0        \n",
      "\n",
      "Instantaneous Rewards : [0. 0. 0. 0. 0.]        \n",
      "Total Reward : 0.0        \n",
      "\n",
      "Instantaneous Rewards : [ 2.  4.  8. 16.  0.]        \n",
      "Total Reward : 30.0        \n",
      "\n",
      "Instantaneous Rewards : [0. 0. 0. 0. 0.]        \n",
      "Total Reward : 0.0        \n",
      "\n"
     ]
    }
   ],
   "source": [
    "for _ in range(20):\n",
    "    st_petersberg_exp = Saint_Petersberg(N)\n",
    "    st_petersberg_exp.play_game()\n",
    "    print(st_petersberg_exp)"
   ]
  }
 ],
 "metadata": {
  "kernelspec": {
   "display_name": "Python 3 (ipykernel)",
   "language": "python",
   "name": "python3"
  },
  "language_info": {
   "codemirror_mode": {
    "name": "ipython",
    "version": 3
   },
   "file_extension": ".py",
   "mimetype": "text/x-python",
   "name": "python",
   "nbconvert_exporter": "python",
   "pygments_lexer": "ipython3",
   "version": "3.7.0"
  }
 },
 "nbformat": 4,
 "nbformat_minor": 5
}
