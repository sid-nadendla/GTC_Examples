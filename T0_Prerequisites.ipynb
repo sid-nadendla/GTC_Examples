{
 "cells": [
  {
   "cell_type": "markdown",
   "id": "b88283cc",
   "metadata": {},
   "source": [
    "# CS 5408 - Game Theory for Computing\n",
    "\n",
    "## Topic 0: Introduction -- Prerequisites \n",
    "\\\n",
    "COPYRIGHTS: © Sid Nadendla, 2021"
   ]
  },
  {
   "cell_type": "markdown",
   "id": "3b8dad4b",
   "metadata": {},
   "source": [
    "### Things to Remember\n",
    "\n",
    "* All programming assignments should be written in **Python 3.8+** and submitted as **Jupyter notebooks** in assigned **Gitlab** repositories before the submission deadline. \n",
    "    * All other submissions will be rejected -- in which case, zero points will be automatically awarded. \n",
    "    * Any exceptions can only be granted at the discretion of the instructor only under justifiable circumstances.\n",
    "    \n",
    "* To work on a Unix terminal from any Windows machine, you may use **PuTTY**, a free and open-source SSH/Telnet client, and follow the instructions in this [link](https://it.mst.edu/services/remote-desktop-connection/install-putty/) to gain access to our campus' standard Unix installation. \n",
    "    * If you are off-campus, you need to first connect to our campus VPN by following the instructions provided in this [link](https://it.mst.edu/services/vpn/).\n",
    "\n",
    "* Note that the code provided by the instructor cannot be changed. You can only write your code in the blanks, as instructed by comments within respective code cells."
   ]
  },
  {
   "cell_type": "markdown",
   "id": "89db52c0",
   "metadata": {},
   "source": [
    "### Resources\n",
    "\n",
    "* Official Python Documentation: [https://www.python.org/doc/](https://www.python.org/doc/)\n",
    "\n",
    "* IBM's Markdown Cheatsheet for Jupyter Notebook: [https://www.ibm.com/docs/en/watson-studio-local/1.2.3?topic=notebooks-markdown-jupyter-cheatsheet](https://www.ibm.com/docs/en/watson-studio-local/1.2.3?topic=notebooks-markdown-jupyter-cheatsheet) \\\n",
    "\n",
    "* Git: [https://git-scm.com/doc](https://git-scm.com/doc)"
   ]
  },
  {
   "cell_type": "markdown",
   "id": "c196cc21",
   "metadata": {},
   "source": [
    "### One-Time Setup Instructions\n",
    "\n",
    "In Unix terminal, perform the following steps:\n",
    "\n",
    "**STEP 1:** Make sure you have git, Python and any other necessary prerequisites installed in your workstation: \\\n",
    "`git --version` \\\n",
    "`python3 --version`\n",
    "\n",
    "Then, check what the default Python version is, on your workstation: \\\n",
    "`python --version` \\\n",
    "If the default Python version is python2, then change it to Python 3, if it is already installed in your system: \\\n",
    "`alias python=python3`\n",
    "\n",
    "**STEP 2:** Create a virtual environment: \\\n",
    "`python -m venv fs2021-cs5408-venv`\n",
    "\n",
    "**STEP 3:** Activate the virtual environment: \\\n",
    "`source fs2021-cs5408-venv/bin/activate`\n",
    "\n",
    "**STEP 4:** Install all the necessary dependencies within the virtual environment in the following order: \\\n",
    "`pip install --upgrade pip` \\\n",
    "`pip install git`\n",
    "`pip install jupyter` \\\n",
    "`pip install gym` "
   ]
  },
  {
   "cell_type": "markdown",
   "id": "69e0607a",
   "metadata": {},
   "source": [
    "### Instructions for every submission\n",
    "\n",
    "In order to work on your HWs and/or projects, perform the following steps:\n",
    "\n",
    "STEP 1: Activate the virtual environment: \\\n",
    "`source fs2021-c5408-venv\\bin\\activate`\n",
    "\n",
    "STEP 2: Clone the appropriate git repository: \\\n",
    "`git clone <git-repository-address>`\n",
    "\n",
    "STEP 3: Open Jupyter Notebook: \\\n",
    "`jupyter notebook`\n",
    "\n",
    "STEP 4: Once the notebook opens in your browser, update the code in existing Jupyter notebooks.  \n",
    "\n",
    "STEP 5: Upon closing the Jupyter Notebook, run the following command in your terminal:\n",
    "`pip freeze > requirements.txt`\n",
    "\n",
    "STEP 6: Commit your code back to your respective git repositories after every new update:\n",
    "`git commit `"
   ]
  },
  {
   "cell_type": "markdown",
   "id": "723b861c",
   "metadata": {},
   "source": [
    "### Example Code in Python\n",
    "\n",
    "**Note:** Every notebook is independent, and therefore the code needs to be self-contained. "
   ]
  },
  {
   "cell_type": "code",
   "execution_count": 4,
   "id": "1a966517",
   "metadata": {},
   "outputs": [
    {
     "name": "stdout",
     "output_type": "stream",
     "text": [
      "Collecting numpy\n",
      "  Downloading numpy-1.21.2-cp37-cp37m-macosx_10_9_x86_64.whl (16.9 MB)\n",
      "\u001b[K     |████████████████████████████████| 16.9 MB 2.8 MB/s eta 0:00:01\n",
      "\u001b[?25hInstalling collected packages: numpy\n",
      "Successfully installed numpy-1.21.2\n"
     ]
    }
   ],
   "source": [
    "# Install any necessary package other than the one listed in the one-time setup instructions\n",
    "\n",
    "!pip install numpy # This package allows you to compute Nash equilibrium using Lemke-Howson algorithm."
   ]
  },
  {
   "cell_type": "code",
   "execution_count": 5,
   "id": "b69d198e",
   "metadata": {},
   "outputs": [],
   "source": [
    "# Import all necessary global packages\n",
    "\n",
    "import numpy as np"
   ]
  },
  {
   "cell_type": "markdown",
   "id": "52161bde",
   "metadata": {},
   "source": [
    "#### 1. Different ways to represent numbers"
   ]
  },
  {
   "cell_type": "code",
   "execution_count": 6,
   "id": "71933023",
   "metadata": {},
   "outputs": [
    {
     "name": "stdout",
     "output_type": "stream",
     "text": [
      "Is var1 = var2? : True\n",
      "Is var1 = var3? : True\n"
     ]
    }
   ],
   "source": [
    "var1 = 1000000\n",
    "var2 = 1_000_000\n",
    "var3 = 1e6\n",
    "\n",
    "print(f\"Is var1 = var2? : {var1==var2}\")\n",
    "print(f\"Is var1 = var3? : {var1==var3}\")"
   ]
  },
  {
   "cell_type": "markdown",
   "id": "a8a489ec",
   "metadata": {},
   "source": [
    "#### 2. Random number generation"
   ]
  },
  {
   "cell_type": "code",
   "execution_count": 13,
   "id": "fb998967",
   "metadata": {},
   "outputs": [
    {
     "name": "stdout",
     "output_type": "stream",
     "text": [
      "x = [0.26007329 0.71185837 0.00198077 0.19316859 0.2287486 ]\n",
      "x[0]*10^3 = 260.0732925778095\n"
     ]
    }
   ],
   "source": [
    "x = np.random.uniform(0,1,5)\n",
    "print(f\"x = {x}\")\n",
    "print(f\"x[0]*10^3 = {x[0]*(10**3)}\")"
   ]
  },
  {
   "cell_type": "markdown",
   "id": "8653ec37",
   "metadata": {},
   "source": [
    "#### 3. Matrix Operations"
   ]
  },
  {
   "cell_type": "code",
   "execution_count": 33,
   "id": "5580b17c",
   "metadata": {},
   "outputs": [
    {
     "name": "stdout",
     "output_type": "stream",
     "text": [
      "Matrix M0 = [[0. 0. 0.]\n",
      " [0. 0. 0.]] \n",
      "\n",
      "Matrix M1 = [[1. 1.]\n",
      " [1. 1.]\n",
      " [1. 1.]\n",
      " [1. 1.]\n",
      " [1. 1.]] \n",
      "\n",
      "M2 = [[1, 4, 5, 12], [-5, 8, 9, 0], [-6, 7, 11, 19]] \n",
      "\n",
      "M2[1] = [-5, 8, 9, 0] \n",
      "\n",
      "M2[1][2] = 9 \n",
      "\n",
      "M2[0][-1] = 12 \n",
      "\n",
      "M2[2][-2] = 11 \n",
      "\n",
      "3rd column in M2 = [5, 9, 11] \n",
      "\n",
      "M4 = [[ 1  4  5 12]\n",
      " [-6  7 11 19]] \n",
      "\n",
      "M5 = [[ 1  4 12]\n",
      " [-5  8  0]\n",
      " [-6  7 19]] \n",
      "\n"
     ]
    }
   ],
   "source": [
    "M0 = np.zeros((2,3))\n",
    "print(f\"Matrix M0 = {M0} \\n\")\n",
    "\n",
    "M1 = np.ones((5,2))\n",
    "print(f\"Matrix M1 = {M1} \\n\")\n",
    "\n",
    "M2 = [[1, 4, 5, 12], \n",
    "    [-5, 8, 9, 0],\n",
    "    [-6, 7, 11, 19]]\n",
    "print(f\"M2 = {M2} \\n\")\n",
    "\n",
    "# Printing the 2nd row in M2\n",
    "print(f\"M2[1] = {M2[1]} \\n\")\n",
    "\n",
    "# Printing the 3rd element of 2nd row in M2\n",
    "print(f\"M2[1][2] = {M2[1][2]} \\n\")\n",
    "\n",
    "# Printing the last element of 1st Row of M2\n",
    "print(f\"M2[0][-1] = {M2[0][-1]} \\n\") \n",
    "\n",
    "# Printing the second-to-last element of 3rd Row of M2\n",
    "print(f\"M2[2][-2] = {M2[2][-2]} \\n\") \n",
    "\n",
    "# Printing the 3rd column in M2\n",
    "column = [];        # empty list\n",
    "for row in M2:\n",
    "  column.append(row[2])   \n",
    "print(f\"3rd column in M2 = {column} \\n\") \n",
    "\n",
    "# Deleting the second row in M2\n",
    "M4 = np.delete(M2,1,axis=0)\n",
    "print(f\"M4 = {M4} \\n\")\n",
    "\n",
    "# Deleting the third column in M2\n",
    "M5 = np.delete(M2,2,axis=1)\n",
    "print(f\"M5 = {M5} \\n\")"
   ]
  }
 ],
 "metadata": {
  "kernelspec": {
   "display_name": "Python 3 (ipykernel)",
   "language": "python",
   "name": "python3"
  },
  "language_info": {
   "codemirror_mode": {
    "name": "ipython",
    "version": 3
   },
   "file_extension": ".py",
   "mimetype": "text/x-python",
   "name": "python",
   "nbconvert_exporter": "python",
   "pygments_lexer": "ipython3",
   "version": "3.7.0"
  }
 },
 "nbformat": 4,
 "nbformat_minor": 5
}
