{
 "cells": [
  {
   "cell_type": "markdown",
   "metadata": {},
   "source": [
    "# CS 5408 - Game Theory for Computing\n",
    "\n",
    "## Topic 0: Introduction -- Prerequisites \n",
    "\\\n",
    "COPYRIGHTS: © Sid Nadendla, 2021"
   ]
  },
  {
   "cell_type": "markdown",
   "metadata": {},
   "source": [
    "### Things to Remember\n",
    "\n",
    "* All programming assignments should be written in **Python 3.8+** and submitted as **Jupyter notebooks** in assigned **Gitlab** repositories before the submission deadline. \n",
    "    * All other submissions will be rejected -- in which case, zero points will be automatically awarded. \n",
    "    * Any exceptions can only be granted at the discretion of the instructor only under justifiable circumstances.\n",
    "    \n",
    "* To work on a Unix terminal from any Windows machine, you may use **PuTTY**, a free and open-source SSH/Telnet client, and follow the instructions in this [link](https://it.mst.edu/services/remote-desktop-connection/install-putty/) to gain access to our campus' standard Unix installation. \n",
    "    * If you are off-campus, you need to first connect to our campus VPN by following the instructions provided in this [link](https://it.mst.edu/services/vpn/).\n",
    "\n",
    "* Note that the code provided by the instructor cannot be changed. You can only write your code in the blanks, as instructed by comments within respective code cells."
   ]
  },
  {
   "cell_type": "markdown",
   "metadata": {},
   "source": [
    "### Resources\n",
    "\n",
    "Official Python Documentation: [https://www.python.org/doc/](https://www.python.org/doc/) \\\n",
    "IBM's Markdown Cheatsheet for Jupyter Notebook: [https://www.ibm.com/docs/en/watson-studio-local/1.2.3?topic=notebooks-markdown-jupyter-cheatsheet](https://www.ibm.com/docs/en/watson-studio-local/1.2.3?topic=notebooks-markdown-jupyter-cheatsheet) \\\n",
    "Git: "
   ]
  },
  {
   "cell_type": "markdown",
   "metadata": {},
   "source": [
    "### One-Time Setup Instructions\n",
    "\n",
    "In Unix terminal, perform the following steps:\n",
    "\n",
    "**STEP 1:** Make sure you have git, Python and any other necessary prerequisites installed in your workstation: \\\n",
    "`git --version` \\\n",
    "`python3 --version`\n",
    "\n",
    "Then, check what the default Python version is, on your workstation: \\\n",
    "`python --version` \\\n",
    "If the default Python version is python2, then change it to Python 3, if it is already installed in your system: \\\n",
    "`alias python=python3`\n",
    "\n",
    "**STEP 2:** Create a virtual environment: \\\n",
    "`python -m venv fs2021-cs5408-venv`\n",
    "\n",
    "**STEP 3:** Activate the virtual environment: \\\n",
    "`source fs2021-cs5408-venv/bin/activate`\n",
    "\n",
    "**STEP 4:** Install all the necessary dependencies within the virtual environment in the following order: \\\n",
    "`pip install --upgrade pip` \\\n",
    "`pip install git`\n",
    "`pip install jupyter` \\\n",
    "`pip install gym` "
   ]
  },
  {
   "cell_type": "markdown",
   "metadata": {},
   "source": [
    "### Instructions for every submission\n",
    "\n",
    "In order to work on your HWs and/or projects, perform the following steps:\n",
    "\n",
    "STEP 1: Activate the virtual environment: \\\n",
    "`source fs2021-c5408-venv\\bin\\activate`\n",
    "\n",
    "STEP 2: Clone the appropriate git repository: \\\n",
    "`git clone <git-repository-address>`\n",
    "\n",
    "STEP 3: Open Jupyter Notebook: \\\n",
    "`jupyter notebook`\n",
    "\n",
    "STEP 4: Once the notebook opens in your browser, update the code in existing Jupyter notebooks.  \n",
    "\n",
    "STEP 5: Upon closing the Jupyter Notebook, run the following command in your terminal:\n",
    "`pip freeze > requirements.txt`\n",
    "\n",
    "STEP 6: Commit your code back to your respective git repositories after every new update:\n",
    "`git commit `"
   ]
  },
  {
   "cell_type": "markdown",
   "metadata": {},
   "source": [
    "### Example Code in Python\n",
    "\n",
    "**Note:** Every notebook is an independent "
   ]
  },
  {
   "cell_type": "code",
   "execution_count": 8,
   "metadata": {},
   "outputs": [
    {
     "name": "stdout",
     "output_type": "stream",
     "text": [
      "Requirement already satisfied: highway_env in /Users/nadendla/Desktop/Teaching/Game Theory for Computing/FS2021/FS2021-GTC-venv/lib/python3.8/site-packages (1.2)\n",
      "Requirement already satisfied: numpy in /Users/nadendla/Desktop/Teaching/Game Theory for Computing/FS2021/FS2021-GTC-venv/lib/python3.8/site-packages (from highway_env) (1.21.1)\n",
      "Requirement already satisfied: matplotlib in /Users/nadendla/Desktop/Teaching/Game Theory for Computing/FS2021/FS2021-GTC-venv/lib/python3.8/site-packages (from highway_env) (3.4.2)\n",
      "Requirement already satisfied: pandas in /Users/nadendla/Desktop/Teaching/Game Theory for Computing/FS2021/FS2021-GTC-venv/lib/python3.8/site-packages (from highway_env) (1.3.1)\n",
      "Requirement already satisfied: gym in /Users/nadendla/Desktop/Teaching/Game Theory for Computing/FS2021/FS2021-GTC-venv/lib/python3.8/site-packages (from highway_env) (0.18.3)\n",
      "Requirement already satisfied: pygame in /Users/nadendla/Desktop/Teaching/Game Theory for Computing/FS2021/FS2021-GTC-venv/lib/python3.8/site-packages (from highway_env) (2.0.1)\n",
      "Requirement already satisfied: scipy in /Users/nadendla/Desktop/Teaching/Game Theory for Computing/FS2021/FS2021-GTC-venv/lib/python3.8/site-packages (from gym->highway_env) (1.7.0)\n",
      "Requirement already satisfied: pyglet<=1.5.15,>=1.4.0 in /Users/nadendla/Desktop/Teaching/Game Theory for Computing/FS2021/FS2021-GTC-venv/lib/python3.8/site-packages (from gym->highway_env) (1.5.15)\n",
      "Requirement already satisfied: Pillow<=8.2.0 in /Users/nadendla/Desktop/Teaching/Game Theory for Computing/FS2021/FS2021-GTC-venv/lib/python3.8/site-packages (from gym->highway_env) (8.2.0)\n",
      "Requirement already satisfied: cloudpickle<1.7.0,>=1.2.0 in /Users/nadendla/Desktop/Teaching/Game Theory for Computing/FS2021/FS2021-GTC-venv/lib/python3.8/site-packages (from gym->highway_env) (1.6.0)\n",
      "Requirement already satisfied: cycler>=0.10 in /Users/nadendla/Desktop/Teaching/Game Theory for Computing/FS2021/FS2021-GTC-venv/lib/python3.8/site-packages (from matplotlib->highway_env) (0.10.0)\n",
      "Requirement already satisfied: python-dateutil>=2.7 in /Users/nadendla/Desktop/Teaching/Game Theory for Computing/FS2021/FS2021-GTC-venv/lib/python3.8/site-packages (from matplotlib->highway_env) (2.8.2)\n",
      "Requirement already satisfied: pyparsing>=2.2.1 in /Users/nadendla/Desktop/Teaching/Game Theory for Computing/FS2021/FS2021-GTC-venv/lib/python3.8/site-packages (from matplotlib->highway_env) (2.4.7)\n",
      "Requirement already satisfied: kiwisolver>=1.0.1 in /Users/nadendla/Desktop/Teaching/Game Theory for Computing/FS2021/FS2021-GTC-venv/lib/python3.8/site-packages (from matplotlib->highway_env) (1.3.1)\n",
      "Requirement already satisfied: six in /Users/nadendla/Desktop/Teaching/Game Theory for Computing/FS2021/FS2021-GTC-venv/lib/python3.8/site-packages (from cycler>=0.10->matplotlib->highway_env) (1.16.0)\n",
      "Requirement already satisfied: pytz>=2017.3 in /Users/nadendla/Desktop/Teaching/Game Theory for Computing/FS2021/FS2021-GTC-venv/lib/python3.8/site-packages (from pandas->highway_env) (2021.1)\n"
     ]
    }
   ],
   "source": [
    "# Install any necessary package other than the one listed in the one-time setup instructions\n",
    "\n",
    "!pip install numpy # This package allows you to compute Nash equilibrium using Lemke-Howson algorithm."
   ]
  },
  {
   "cell_type": "code",
   "execution_count": 9,
   "metadata": {},
   "outputs": [],
   "source": [
    "# Import all necessary global packages\n",
    "\n",
    "import numpy as np"
   ]
  },
  {
   "cell_type": "code",
   "execution_count": null,
   "metadata": {},
   "outputs": [],
   "source": []
  }
 ],
 "metadata": {
  "kernelspec": {
   "display_name": "Python 3 (ipykernel)",
   "language": "python",
   "name": "python3"
  },
  "language_info": {
   "codemirror_mode": {
    "name": "ipython",
    "version": 3
   },
   "file_extension": ".py",
   "mimetype": "text/x-python",
   "name": "python",
   "nbconvert_exporter": "python",
   "pygments_lexer": "ipython3",
   "version": "3.8.5"
  }
 },
 "nbformat": 4,
 "nbformat_minor": 5
}